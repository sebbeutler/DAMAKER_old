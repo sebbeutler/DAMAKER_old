{
 "cells": [
  {
   "cell_type": "markdown",
   "metadata": {},
   "source": [
    "I/O\n",
    "===\n",
    "\n",
    "Reading a file:\n",
    "---------------\n",
    "\n",
    "#### TIFF (Tagged Image File Format);\n"
   ]
  },
  {
   "cell_type": "code",
   "execution_count": null,
   "metadata": {},
   "outputs": [],
   "source": [
    "from damaker.utils import load\n",
    "\n",
    "load('MyFile.tif')\n",
    "print("
   ]
  }
 ],
 "metadata": {
  "kernelspec": {
   "display_name": "Python 3.9.15 ('damaker')",
   "language": "python",
   "name": "python3"
  },
  "language_info": {
   "name": "python",
   "version": "3.9.15"
  },
  "orig_nbformat": 4,
  "vscode": {
   "interpreter": {
    "hash": "3a79fad8abf49bd5c9abd4ce6c4f3da60124ba2acbf91dabadb6059753eb6972"
   }
  }
 },
 "nbformat": 4,
 "nbformat_minor": 2
}
